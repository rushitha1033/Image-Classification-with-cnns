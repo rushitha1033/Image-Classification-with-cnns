{
  "nbformat": 4,
  "nbformat_minor": 0,
  "metadata": {
    "colab": {
      "provenance": []
    },
    "kernelspec": {
      "name": "python3",
      "display_name": "Python 3"
    },
    "language_info": {
      "name": "python"
    }
  },
  "cells": [
    {
      "cell_type": "code",
      "execution_count": 41,
      "metadata": {
        "id": "ZCJsDfa6aizf"
      },
      "outputs": [],
      "source": [
        "import tensorflow as tf\n",
        "from tensorflow.keras import datasets, layers, models\n",
        "import matplotlib.pyplot as plt\n",
        "import numpy as np"
      ]
    },
    {
      "cell_type": "code",
      "source": [
        "(X_train, y_train), (X_test, y_test) = datasets.cifar10.load_data()\n",
        "X_train.shape"
      ],
      "metadata": {
        "colab": {
          "base_uri": "https://localhost:8080/"
        },
        "id": "3EX6at5jbWTN",
        "outputId": "67e66372-e3db-4839-905f-8099af3e4c20"
      },
      "execution_count": 42,
      "outputs": [
        {
          "output_type": "execute_result",
          "data": {
            "text/plain": [
              "(50000, 32, 32, 3)"
            ]
          },
          "metadata": {},
          "execution_count": 42
        }
      ]
    },
    {
      "cell_type": "code",
      "source": [
        "X_test.shape"
      ],
      "metadata": {
        "colab": {
          "base_uri": "https://localhost:8080/"
        },
        "id": "UnJexlI8bcji",
        "outputId": "ef7108a2-381c-460f-f97a-8b53a1ff6704"
      },
      "execution_count": 43,
      "outputs": [
        {
          "output_type": "execute_result",
          "data": {
            "text/plain": [
              "(10000, 32, 32, 3)"
            ]
          },
          "metadata": {},
          "execution_count": 43
        }
      ]
    },
    {
      "cell_type": "code",
      "source": [
        "y_train.shape"
      ],
      "metadata": {
        "colab": {
          "base_uri": "https://localhost:8080/"
        },
        "id": "vbHGB35QlGjW",
        "outputId": "d31cede5-acce-4a7f-8caa-a733c4b0e040"
      },
      "execution_count": 44,
      "outputs": [
        {
          "output_type": "execute_result",
          "data": {
            "text/plain": [
              "(50000, 1)"
            ]
          },
          "metadata": {},
          "execution_count": 44
        }
      ]
    },
    {
      "cell_type": "code",
      "source": [
        "y_train[:5]"
      ],
      "metadata": {
        "colab": {
          "base_uri": "https://localhost:8080/"
        },
        "id": "o71ckMddcszA",
        "outputId": "3b41fe57-43f1-4595-f792-aa97660acac4"
      },
      "execution_count": 45,
      "outputs": [
        {
          "output_type": "execute_result",
          "data": {
            "text/plain": [
              "array([[6],\n",
              "       [9],\n",
              "       [9],\n",
              "       [4],\n",
              "       [1]], dtype=uint8)"
            ]
          },
          "metadata": {},
          "execution_count": 45
        }
      ]
    },
    {
      "cell_type": "code",
      "source": [
        "y_train = y_train.reshape(-1,)\n",
        "y_train[:5]"
      ],
      "metadata": {
        "colab": {
          "base_uri": "https://localhost:8080/"
        },
        "id": "g0KIzGTMcxaH",
        "outputId": "7d4edad7-a082-423b-a721-1ca867afbaef"
      },
      "execution_count": 46,
      "outputs": [
        {
          "output_type": "execute_result",
          "data": {
            "text/plain": [
              "array([6, 9, 9, 4, 1], dtype=uint8)"
            ]
          },
          "metadata": {},
          "execution_count": 46
        }
      ]
    },
    {
      "cell_type": "code",
      "source": [
        "y_test = y_test.reshape(-1,)"
      ],
      "metadata": {
        "id": "76fubxrKlNmE"
      },
      "execution_count": 47,
      "outputs": []
    },
    {
      "cell_type": "code",
      "source": [
        "classes=[\"airplane\",\"automobile\",\"bird\",\"cat\",\"deer\",\"dog\",\"frog\",\"horse\",\"ship\",\"truck\"]"
      ],
      "metadata": {
        "id": "IdzllYCacUg3"
      },
      "execution_count": 48,
      "outputs": []
    },
    {
      "cell_type": "code",
      "source": [
        "def plot_sample(X,y,index):\n",
        "    plt.figure(figsize=(15,2))\n",
        "    plt.imshow(X_train[index])\n",
        "    plt.xlabel(classes[y[index]])\n",
        ""
      ],
      "metadata": {
        "id": "g4htAoMCbf69"
      },
      "execution_count": 49,
      "outputs": []
    },
    {
      "cell_type": "code",
      "source": [
        "plot_sample(X_train,y_train,0)"
      ],
      "metadata": {
        "colab": {
          "base_uri": "https://localhost:8080/",
          "height": 237
        },
        "id": "a9nCPqnYbsyc",
        "outputId": "20bb23f4-fb61-4799-938c-2f6a1569dac8"
      },
      "execution_count": 50,
      "outputs": [
        {
          "output_type": "display_data",
          "data": {
            "text/plain": [
              "<Figure size 1500x200 with 1 Axes>"
            ],
            "image/png": "[encoded data removed]"
          },
          "metadata": {}
        }
      ]
    },
    {
      "cell_type": "code",
      "source": [
        "plot_sample(X_train,y_train,3)"
      ],
      "metadata": {
        "colab": {
          "base_uri": "https://localhost:8080/",
          "height": 237
        },
        "id": "YGSdixYLcTnx",
        "outputId": "ba6f8834-8214-45ad-f496-16565423f5be"
      },
      "execution_count": 51,
      "outputs": [
        {
          "output_type": "display_data",
          "data": {
            "text/plain": [
              "<Figure size 1500x200 with 1 Axes>"
            ],
            "image/png": "[encoded data removed]"
          },
          "metadata": {}
        }
      ]
    },
    {
      "cell_type": "code",
      "source": [
        "X_train = X_train / 255.0\n",
        "X_test = X_test / 255.0"
      ],
      "metadata": {
        "id": "n-9ayMJidvoI"
      },
      "execution_count": 52,
      "outputs": []
    },
    {
      "cell_type": "code",
      "source": [
        "ann=models.Sequential([\n",
        "    layers.Flatten(input_shape=(32,32,3)),\n",
        "    layers.Dense(3000,activation=\"relu\"),\n",
        "    layers.Dense(1000,activation=\"relu\"),\n",
        "    layers.Dense(10,activation=\"softmax\")\n",
        "])\n",
        "ann.compile(optimizer=\"SGD\",loss=\"sparse_categorical_crossentropy\",metrics=[\"accuracy\"])\n",
        "ann.fit(X_train,y_train,epochs=5)"
      ],
      "metadata": {
        "colab": {
          "base_uri": "https://localhost:8080/"
        },
        "id": "pWi96IDpd4mm",
        "outputId": "77f36c79-4420-439e-9dfb-b2e29ca57cf4"
      },
      "execution_count": null,
      "outputs": [
        {
          "output_type": "stream",
          "name": "stdout",
          "text": [
            "Epoch 1/5\n",
            "1563/1563 [==============================] - 174s 111ms/step - loss: 1.8121 - accuracy: 0.3518\n",
            "Epoch 2/5\n",
            "1563/1563 [==============================] - 174s 111ms/step - loss: 1.6222 - accuracy: 0.4263\n",
            "Epoch 3/5\n",
            "1563/1563 [==============================] - 176s 113ms/step - loss: 1.5398 - accuracy: 0.4580\n",
            "Epoch 4/5\n",
            "1563/1563 [==============================] - 184s 117ms/step - loss: 1.4783 - accuracy: 0.4799\n",
            "Epoch 5/5\n",
            "1119/1563 [====================>.........] - ETA: 51s - loss: 1.4353 - accuracy: 0.4931"
          ]
        }
      ]
    },
    {
      "cell_type": "code",
      "source": [
        "ann.evaluate(X_test,y_test)"
      ],
      "metadata": {
        "id": "YvXLy1NYecl3"
      },
      "execution_count": null,
      "outputs": []
    },
    {
      "cell_type": "code",
      "source": [
        "from sklearn.metrics import confusion_matrix,classification_report\n",
        "import numpy as np\n",
        "y_pred=ann.predict(X_test)\n",
        "y_pred_classes=[np.argmax(element) for element in y_pred]\n",
        "print(\"classification report: \\n\",classification_report(y_test,y_pred_classes))"
      ],
      "metadata": {
        "id": "pxcY_DAtefWH"
      },
      "execution_count": null,
      "outputs": []
    },
    {
      "cell_type": "code",
      "source": [
        "cnn = models.Sequential([\n",
        "    layers.Conv2D(filters=32, kernel_size=(3, 3), activation='relu', input_shape=(32, 32, 3)),\n",
        "    layers.MaxPooling2D((2, 2)),\n",
        "\n",
        "    layers.Conv2D(filters=64, kernel_size=(3, 3), activation='relu'),\n",
        "    layers.MaxPooling2D((2, 2)),\n",
        "\n",
        "    layers.Flatten(),\n",
        "    layers.Dense(64, activation='relu'),\n",
        "    layers.Dense(10, activation='softmax')\n",
        "])"
      ],
      "metadata": {
        "id": "4zF_9QPvhnDq"
      },
      "execution_count": null,
      "outputs": []
    },
    {
      "cell_type": "code",
      "source": [
        "cnn.compile(optimizer='adam',\n",
        "              loss='sparse_categorical_crossentropy',\n",
        "              metrics=['accuracy'])\n"
      ],
      "metadata": {
        "id": "3RFTzz03h9sW"
      },
      "execution_count": null,
      "outputs": []
    },
    {
      "cell_type": "code",
      "source": [
        "cnn.fit(X_train, y_train, epochs=10)"
      ],
      "metadata": {
        "colab": {
          "base_uri": "https://localhost:8080/"
        },
        "id": "HgFxIiahh-ft",
        "outputId": "e6c43b2f-a71f-4665-93a7-ed4934d78509"
      },
      "execution_count": 58,
      "outputs": [
        {
          "output_type": "stream",
          "name": "stdout",
          "text": [
            "Epoch 1/10\n",
            "1563/1563 [==============================] - 75s 47ms/step - loss: 1.4860 - accuracy: 0.4660\n",
            "Epoch 2/10\n",
            "1563/1563 [==============================] - 76s 49ms/step - loss: 1.1337 - accuracy: 0.6020\n",
            "Epoch 3/10\n",
            "1563/1563 [==============================] - 74s 48ms/step - loss: 0.9963 - accuracy: 0.6515\n",
            "Epoch 4/10\n",
            "1563/1563 [==============================] - 78s 50ms/step - loss: 0.9116 - accuracy: 0.6834\n",
            "Epoch 5/10\n",
            "1563/1563 [==============================] - 77s 49ms/step - loss: 0.8540 - accuracy: 0.7032\n",
            "Epoch 6/10\n",
            "1563/1563 [==============================] - 78s 50ms/step - loss: 0.7974 - accuracy: 0.7227\n",
            "Epoch 7/10\n",
            "1563/1563 [==============================] - 77s 49ms/step - loss: 0.7483 - accuracy: 0.7407\n",
            "Epoch 8/10\n",
            "1563/1563 [==============================] - 82s 53ms/step - loss: 0.7083 - accuracy: 0.7524\n",
            "Epoch 9/10\n",
            "1563/1563 [==============================] - 77s 49ms/step - loss: 0.6668 - accuracy: 0.7675\n",
            "Epoch 10/10\n",
            "1563/1563 [==============================] - 79s 50ms/step - loss: 0.6321 - accuracy: 0.7801\n"
          ]
        },
        {
          "output_type": "execute_result",
          "data": {
            "text/plain": [
              "<keras.src.callbacks.History at 0x7a03e06be950>"
            ]
          },
          "metadata": {},
          "execution_count": 58
        }
      ]
    },
    {
      "cell_type": "code",
      "source": [
        "\n",
        "cnn.evaluate(X_test,y_test)"
      ],
      "metadata": {
        "colab": {
          "base_uri": "https://localhost:8080/"
        },
        "id": "ej9sGQVKiA6f",
        "outputId": "e8038d8e-6999-4f45-aaab-df8d27e31717"
      },
      "execution_count": 59,
      "outputs": [
        {
          "output_type": "stream",
          "name": "stdout",
          "text": [
            "313/313 [==============================] - 4s 13ms/step - loss: 0.9165 - accuracy: 0.6986\n"
          ]
        },
        {
          "output_type": "execute_result",
          "data": {
            "text/plain": [
              "[0.9165012836456299, 0.6985999941825867]"
            ]
          },
          "metadata": {},
          "execution_count": 59
        }
      ]
    },
    {
      "cell_type": "code",
      "source": [
        "y_pred = cnn.predict(X_test)\n",
        "y_pred[:5]"
      ],
      "metadata": {
        "colab": {
          "base_uri": "https://localhost:8080/"
        },
        "id": "a7GJ65ruiF7T",
        "outputId": "170facb7-1836-48dc-eed4-4c44a5c02555"
      },
      "execution_count": 60,
      "outputs": [
        {
          "output_type": "stream",
          "name": "stdout",
          "text": [
            "313/313 [==============================] - 5s 16ms/step\n"
          ]
        },
        {
          "output_type": "execute_result",
          "data": {
            "text/plain": [
              "array([[8.89821036e-04, 5.10181941e-04, 8.53564218e-02, 6.43406272e-01,\n",
              "        1.51863275e-02, 1.92459136e-01, 5.39874611e-03, 2.76287850e-02,\n",
              "        2.88902577e-02, 2.74116173e-04],\n",
              "       [5.52809611e-03, 8.92761499e-02, 4.30843130e-08, 1.71938169e-07,\n",
              "        1.20891841e-07, 5.58485844e-08, 2.28171970e-07, 1.57968882e-09,\n",
              "        9.04642880e-01, 5.52244426e-04],\n",
              "       [8.52741450e-02, 6.29124761e-01, 5.78322960e-03, 1.51435900e-02,\n",
              "        4.64230031e-03, 5.31646248e-04, 9.38241428e-04, 6.81847974e-04,\n",
              "        2.49737456e-01, 8.14284571e-03],\n",
              "       [8.10422778e-01, 1.43192930e-03, 3.13309161e-03, 5.60544664e-04,\n",
              "        1.33676338e-03, 9.87902513e-06, 3.13079909e-05, 1.77157399e-05,\n",
              "        1.82066321e-01, 9.89554566e-04],\n",
              "       [3.62674155e-06, 1.60916199e-04, 8.87990557e-03, 4.44575138e-02,\n",
              "        5.40870965e-01, 4.35530581e-03, 4.00803566e-01, 5.93211880e-05,\n",
              "        9.10567469e-05, 3.17841099e-04]], dtype=float32)"
            ]
          },
          "metadata": {},
          "execution_count": 60
        }
      ]
    },
    {
      "cell_type": "code",
      "source": [
        "y_classes = [np.argmax(element) for element in y_pred]\n",
        "y_classes[:5]"
      ],
      "metadata": {
        "colab": {
          "base_uri": "https://localhost:8080/"
        },
        "id": "UibtpY2qiHYX",
        "outputId": "687b9066-f138-4b15-bf55-230930307794"
      },
      "execution_count": 61,
      "outputs": [
        {
          "output_type": "execute_result",
          "data": {
            "text/plain": [
              "[3, 8, 1, 0, 4]"
            ]
          },
          "metadata": {},
          "execution_count": 61
        }
      ]
    },
    {
      "cell_type": "code",
      "source": [
        "y_test[:5]"
      ],
      "metadata": {
        "colab": {
          "base_uri": "https://localhost:8080/"
        },
        "id": "aLWjOGfPiJkn",
        "outputId": "8c036f80-9f26-4789-df3c-5ab61d9e5024"
      },
      "execution_count": 62,
      "outputs": [
        {
          "output_type": "execute_result",
          "data": {
            "text/plain": [
              "array([3, 8, 8, 0, 6], dtype=uint8)"
            ]
          },
          "metadata": {},
          "execution_count": 62
        }
      ]
    },
    {
      "cell_type": "code",
      "source": [
        "plot_sample(X_test, y_test,3)"
      ],
      "metadata": {
        "colab": {
          "base_uri": "https://localhost:8080/",
          "height": 237
        },
        "id": "1N9Mv7PNiN3g",
        "outputId": "8d0ce8e1-6658-46ec-c163-4eddf232d81d"
      },
      "execution_count": 63,
      "outputs": [
        {
          "output_type": "display_data",
          "data": {
            "text/plain": [
              "<Figure size 1500x200 with 1 Axes>"
            ],
            "image/png": "[encoded data removed]"
          },
          "metadata": {}
        }
      ]
    },
    {
      "cell_type": "code",
      "source": [
        "classes[y_classes[3]]"
      ],
      "metadata": {
        "colab": {
          "base_uri": "https://localhost:8080/",
          "height": 36
        },
        "id": "LQal6Eb7iQK2",
        "outputId": "30917a61-bbe8-434f-80fe-291a75b8af30"
      },
      "execution_count": 64,
      "outputs": [
        {
          "output_type": "execute_result",
          "data": {
            "text/plain": [
              "'airplane'"
            ],
            "application/vnd.google.colaboratory.intrinsic+json": {
              "type": "string"
            }
          },
          "metadata": {},
          "execution_count": 64
        }
      ]
    },
    {
      "cell_type": "code",
      "source": [
        "classes[y_classes[3]]"
      ],
      "metadata": {
        "colab": {
          "base_uri": "https://localhost:8080/",
          "height": 36
        },
        "id": "MlCGRgd3iRmm",
        "outputId": "36e8a270-e043-447d-a55c-fa00ec9c983c"
      },
      "execution_count": 65,
      "outputs": [
        {
          "output_type": "execute_result",
          "data": {
            "text/plain": [
              "'airplane'"
            ],
            "application/vnd.google.colaboratory.intrinsic+json": {
              "type": "string"
            }
          },
          "metadata": {},
          "execution_count": 65
        }
      ]
    },
    {
      "cell_type": "code",
      "source": [],
      "metadata": {
        "id": "rTxEuAoiiU2U"
      },
      "execution_count": 65,
      "outputs": []
    }
  ]
}